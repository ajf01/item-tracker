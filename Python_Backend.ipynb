{
 "cells": [
  {
   "cell_type": "code",
   "execution_count": 1,
   "id": "73c64841-650d-474d-a297-a5ae48273a26",
   "metadata": {},
   "outputs": [
    {
     "name": "stderr",
     "output_type": "stream",
     "text": [
      "/Users/anthonyfong/Personal Code/item-tracker/myenv/lib/python3.9/site-packages/urllib3/__init__.py:34: NotOpenSSLWarning: urllib3 v2 only supports OpenSSL 1.1.1+, currently the 'ssl' module is compiled with 'LibreSSL 2.8.3'. See: https://github.com/urllib3/urllib3/issues/3020\n",
      "  warnings.warn(\n"
     ]
    }
   ],
   "source": [
    "import numpy as np\n",
    "import pandas as pd\n",
    "import fortnite_api"
   ]
  },
  {
   "cell_type": "code",
   "execution_count": 2,
   "id": "291d6f7e-fc14-4b29-accb-b852395dc558",
   "metadata": {},
   "outputs": [],
   "source": [
    "api = fortnite_api.FortniteAPI()"
   ]
  },
  {
   "cell_type": "code",
   "execution_count": 12,
   "id": "fbf2c93a-3ea8-433d-8544-d876a0349f2f",
   "metadata": {},
   "outputs": [],
   "source": [
    "shop = api.shop.fetch()"
   ]
  },
  {
   "cell_type": "code",
   "execution_count": 13,
   "id": "ad633839-f403-4d8d-8133-a352d71bc3fa",
   "metadata": {},
   "outputs": [
    {
     "name": "stdout",
     "output_type": "stream",
     "text": [
      "Help on BrShop in module fortnite_api.shop object:\n",
      "\n",
      "class BrShop(builtins.object)\n",
      " |  BrShop(data)\n",
      " |  \n",
      " |  Represents a Battle Royale shop.\n",
      " |  \n",
      " |  Attributes\n",
      " |  -----------\n",
      " |  hash: :class:`str`\n",
      " |      The hash of the shop.\n",
      " |  date: :class:`datetime.datetime`\n",
      " |      The timestamp of the .\n",
      " |  featured: Optional[List[:class:`BrShopEntry`]]\n",
      " |      A list of all featured entries.\n",
      " |  daily: Optional[List[:class:`BrShopEntry`]]\n",
      " |      A list of all daily entries.\n",
      " |  votes: Optional[List[:class:`BrShopEntry`]]\n",
      " |      A list of all vote entries.\n",
      " |  vote_winners: Optional[List[:class:`BrShopEntry`]]\n",
      " |      A list of all vote winner.\n",
      " |  raw_data: :class:`dict`\n",
      " |      The raw data from request. Can be used for saving and re-creating the class.\n",
      " |  \n",
      " |  Methods defined here:\n",
      " |  \n",
      " |  __init__(self, data)\n",
      " |      Initialize self.  See help(type(self)) for accurate signature.\n",
      " |  \n",
      " |  ----------------------------------------------------------------------\n",
      " |  Data descriptors defined here:\n",
      " |  \n",
      " |  __dict__\n",
      " |      dictionary for instance variables (if defined)\n",
      " |  \n",
      " |  __weakref__\n",
      " |      list of weak references to the object (if defined)\n",
      "\n"
     ]
    }
   ],
   "source": [
    "help(shop)"
   ]
  },
  {
   "cell_type": "code",
   "execution_count": 34,
   "id": "58cea2cc-beb8-474a-a10d-b76e626b9ee2",
   "metadata": {},
   "outputs": [
    {
     "data": {
      "text/plain": [
       "dict_keys(['hash', 'date', 'vbuckIcon', 'featured', 'daily', 'votes', 'voteWinners'])"
      ]
     },
     "execution_count": 34,
     "metadata": {},
     "output_type": "execute_result"
    }
   ],
   "source": [
    "shop.raw_data.keys()"
   ]
  },
  {
   "cell_type": "code",
   "execution_count": 35,
   "id": "bb8cfbfd-75b1-46ae-be52-fbb844ab84d0",
   "metadata": {},
   "outputs": [
    {
     "data": {
      "text/plain": [
       "dict_keys(['name', 'entries'])"
      ]
     },
     "execution_count": 35,
     "metadata": {},
     "output_type": "execute_result"
    }
   ],
   "source": [
    "shop.raw_data['featured'].keys()"
   ]
  },
  {
   "cell_type": "code",
   "execution_count": 36,
   "id": "29c9f8c3-a540-47be-8975-31da3cbc477c",
   "metadata": {},
   "outputs": [],
   "source": [
    "data = shop.raw_data"
   ]
  },
  {
   "cell_type": "code",
   "execution_count": 69,
   "id": "3f7876b1-7213-46a8-b2b3-7c1e0efac58c",
   "metadata": {},
   "outputs": [
    {
     "name": "stdout",
     "output_type": "stream",
     "text": [
      "The Weeknd Combat 1\n",
      "XO 2\n",
      "aXe-O 3\n",
      "XO Attack 4\n",
      "Popular Vibe 5\n",
      "Leonardo 6\n",
      "Leo's Saya 7\n",
      "Leo's Katana 8\n",
      "Michelangelo 9\n",
      "Mikey's Board & Chucks 10\n",
      "Mikey's Nunchucks 11\n",
      "Donatello 12\n",
      "Donnie's Bo Sheath 13\n",
      "Donnie's Bo Staff 14\n",
      "Raphael 15\n",
      "Raph's Sai Holster 16\n",
      "Raph's Sai 17\n",
      "Michonne 18\n",
      "Michonne's Katana 19\n",
      "Michonne's Katana 20\n",
      "Daryl Dixon 21\n",
      "Hunting Quiver 22\n",
      "Daryl's Knives 23\n",
      "Kane 24\n",
      "Sweet Spikes 25\n",
      "Cutiepie 26\n",
      "Candy Cleavers 27\n",
      "Raptor 28\n",
      "Raptor Satchel 29\n",
      "Red Knight 30\n",
      "Red Shield 31\n",
      "Rick Grimes 32\n",
      "Sheriff's Duffle 33\n",
      "Walker Club 34\n",
      "Crashing Satellite 35\n",
      "The Weeknd Combat 36\n",
      "XO 37\n",
      "April O'Neil 38\n",
      "Channel 6 News Camera 39\n",
      "Hero Half-Shell 40\n",
      "TMNT Lid 41\n",
      "Rat King 42\n",
      "Leo's Tag 43\n",
      "Secret's Out 44\n",
      "Raph's Tag 45\n",
      "Pizza Time! 46\n",
      "Mikey's Tag 47\n",
      "Channel 6 48\n",
      "Donnie's Tag 49\n",
      "Boom Mic 50\n",
      "Daryl Dixon 51\n",
      "Hunting Quiver 52\n",
      "Daryl's Knives 53\n",
      "Michonne 54\n",
      "Michonne's Katana 55\n",
      "Michonne's Katana 56\n",
      "Mr. Dappermint 57\n",
      "Candy Cache 58\n",
      "Fancy Dandy Canes 59\n",
      "Candy Plane 60\n",
      "Candy Cane 61\n",
      "Donatello 62\n",
      "Donnie's Bo Sheath 63\n",
      "Donnie's Bo Staff 64\n",
      "Leonardo 65\n",
      "Leo's Saya 66\n",
      "Leo's Katana 67\n",
      "Michelangelo 68\n",
      "Mikey's Board & Chucks 69\n",
      "Mikey's Nunchucks 70\n",
      "Raphael 71\n",
      "Raph's Sai Holster 72\n",
      "Raph's Sai 73\n",
      "The Brat 74\n",
      "Loose Links 75\n",
      "Duffle Dog 76\n",
      "Knockwurst 77\n",
      "April O'Neil 78\n",
      "Channel 6 News Camera 79\n",
      "Globe Shaker 80\n",
      "Ornament 81\n",
      "Grimoire 82\n",
      "Holo-Skull 83\n",
      "Kane 84\n",
      "Sweet Spikes 85\n",
      "Luminos 86\n",
      "Lunar Light 87\n",
      "Rick Grimes 88\n",
      "Sheriff's Duffle 89\n",
      "Cutiepie 90\n",
      "Fa-La-La-La-Fishstick 91\n",
      "The Fishcracker 92\n",
      "Focus 93\n",
      "Chuck Pack 94\n",
      "Holly Striker 95\n",
      "Holly Jolly Hatchet 96\n",
      "Karve 97\n",
      "Merry Mountaineer 98\n",
      "Mr. Dappermint 99\n",
      "Candy Cache 100\n",
      "Potassius Peels 101\n",
      "Cape of Potassius 102\n",
      "Recon Expert 103\n",
      "The Brat 104\n",
      "Loose Links 105\n",
      "Llamacadabra 106\n",
      "Boom Mic 107\n",
      "Crashing Satellite 108\n",
      "Knockwurst 109\n",
      "Polar Poleaxe 110\n",
      "Crystal 111\n",
      "Stash'd 112\n",
      "aXe-O 113\n",
      "Popular Vibe 114\n",
      "Dab 115\n",
      "Candy Cleavers 116\n",
      "Candy Plane 117\n",
      "Fancy Dandy Canes 118\n",
      "Holiday Hook 119\n",
      "Legendary Blade of Insight 120\n",
      "Ol' Chopper 121\n",
      "Tree Topper 122\n",
      "Tundra Blades 123\n",
      "Walker Club 124\n",
      "Hero Half-Shell 125\n",
      "TMNT Lid 126\n",
      "Rat King 127\n",
      "Leo's Tag 128\n",
      "Secret's Out 129\n",
      "Raph's Tag 130\n",
      "Pizza Time! 131\n",
      "Mikey's Tag 132\n",
      "Channel 6 133\n",
      "Donnie's Tag 134\n",
      "Duffle Dog 135\n"
     ]
    }
   ],
   "source": [
    "count = 0\n",
    "for x in data['featured']['entries']:\n",
    "    for y in x['items']:\n",
    "        count += 1\n",
    "        print(y['name'],count)"
   ]
  },
  {
   "cell_type": "code",
   "execution_count": 65,
   "id": "9c107ae7-3b86-45e1-b83a-ff69a09004e5",
   "metadata": {},
   "outputs": [
    {
     "data": {
      "text/plain": [
       "2"
      ]
     },
     "execution_count": 65,
     "metadata": {},
     "output_type": "execute_result"
    }
   ],
   "source": [
    "len(data['featured']['entries'][4]['items'])#.keys()"
   ]
  },
  {
   "cell_type": "code",
   "execution_count": 67,
   "id": "883344fd-e84e-448f-92d7-0888bf7d2f4f",
   "metadata": {},
   "outputs": [
    {
     "data": {
      "text/plain": [
       "{'id': 'BID_005_Raptor',\n",
       " 'name': 'Raptor Satchel',\n",
       " 'description': 'Royale Air Force standard issue.',\n",
       " 'type': {'value': 'backpack',\n",
       "  'displayValue': 'Back Bling',\n",
       "  'backendValue': 'AthenaBackpack'},\n",
       " 'rarity': {'value': 'legendary',\n",
       "  'displayValue': 'Legendary',\n",
       "  'backendValue': 'EFortRarity::Legendary'},\n",
       " 'series': None,\n",
       " 'set': None,\n",
       " 'introduction': {'chapter': '1',\n",
       "  'season': '3',\n",
       "  'text': 'Introduced in Chapter 1, Season 3.',\n",
       "  'backendValue': 3},\n",
       " 'images': {'smallIcon': 'https://fortnite-api.com/images/cosmetics/br/bid_005_raptor/smallicon.png',\n",
       "  'icon': 'https://fortnite-api.com/images/cosmetics/br/bid_005_raptor/icon.png',\n",
       "  'featured': None,\n",
       "  'other': None},\n",
       " 'variants': None,\n",
       " 'searchTags': None,\n",
       " 'gameplayTags': ['Cosmetics.Source.ItemShop', 'Cosmetics.Filter.Season.3'],\n",
       " 'metaTags': None,\n",
       " 'showcaseVideo': None,\n",
       " 'dynamicPakId': None,\n",
       " 'displayAssetPath': None,\n",
       " 'definitionPath': None,\n",
       " 'path': 'FortniteGame/Content/Athena/Items/Cosmetics/BackPacks/BID_005_Raptor',\n",
       " 'added': '2019-11-20T12:48:04Z',\n",
       " 'shopHistory': ['2020-05-05T00:00:00Z',\n",
       "  '2020-05-30T00:00:00Z',\n",
       "  '2020-06-29T00:00:00Z',\n",
       "  '2020-07-29T00:00:00Z',\n",
       "  '2020-09-01T00:00:00Z',\n",
       "  '2020-10-05T00:00:00Z',\n",
       "  '2020-10-06T00:00:00Z',\n",
       "  '2020-10-07T00:00:00Z',\n",
       "  '2020-10-24T00:00:00Z',\n",
       "  '2021-01-19T00:00:00Z',\n",
       "  '2021-02-26T00:00:00Z',\n",
       "  '2021-03-31T00:00:00Z',\n",
       "  '2021-05-13T00:00:00Z',\n",
       "  '2021-06-20T00:00:00Z',\n",
       "  '2021-07-31T00:00:00Z',\n",
       "  '2021-09-23T00:00:00Z',\n",
       "  '2022-02-24T00:00:00Z',\n",
       "  '2022-03-27T00:00:00Z',\n",
       "  '2022-04-28T00:00:00Z',\n",
       "  '2022-06-07T00:00:00Z',\n",
       "  '2022-07-08T00:00:00Z',\n",
       "  '2022-08-09T00:00:00Z',\n",
       "  '2022-10-07T00:00:00Z',\n",
       "  '2022-11-18T00:00:00Z',\n",
       "  '2022-12-16T00:00:00Z',\n",
       "  '2023-01-18T00:00:00Z',\n",
       "  '2023-02-20T00:00:00Z',\n",
       "  '2023-03-24T00:00:00Z',\n",
       "  '2023-05-11T00:00:00Z',\n",
       "  '2023-06-14T00:00:00Z',\n",
       "  '2023-07-30T00:00:00Z',\n",
       "  '2023-09-03T00:00:00Z',\n",
       "  '2023-10-24T00:00:00Z',\n",
       "  '2023-11-05T00:00:00Z',\n",
       "  '2023-12-16T00:00:00Z']}"
      ]
     },
     "execution_count": 67,
     "metadata": {},
     "output_type": "execute_result"
    }
   ],
   "source": [
    "data['featured']['entries'][4]['items'][1]"
   ]
  },
  {
   "cell_type": "code",
   "execution_count": 70,
   "id": "24d2df33-e03e-4493-9d94-0224289d3aba",
   "metadata": {},
   "outputs": [],
   "source": [
    "def find_item():\n",
    "    api = fortnite_api.FortniteAPI()\n",
    "    shop = api.shop.fetch()\n",
    "    data = shop.raw_data\n",
    "    all_items = []\n",
    "    for x in data['featured']['entries']:\n",
    "        for y in x['items']:\n",
    "            all_items.append(y['name'])\n",
    "    #if search in all_items:\n",
    "        #return True\n",
    "    #return False\n",
    "    return all_items"
   ]
  },
  {
   "cell_type": "code",
   "execution_count": 74,
   "id": "25286934-5eb0-4f58-b363-38f3efd0a2df",
   "metadata": {},
   "outputs": [],
   "source": [
    "saver = find_item()"
   ]
  },
  {
   "cell_type": "code",
   "execution_count": 75,
   "id": "2d82dabb-04c7-4e74-9583-ba2a08abf5c6",
   "metadata": {},
   "outputs": [
    {
     "data": {
      "text/plain": [
       "['The Weeknd Combat',\n",
       " 'XO',\n",
       " 'aXe-O',\n",
       " 'XO Attack',\n",
       " 'Popular Vibe',\n",
       " 'Leonardo',\n",
       " \"Leo's Saya\",\n",
       " \"Leo's Katana\",\n",
       " 'Michelangelo',\n",
       " \"Mikey's Board & Chucks\",\n",
       " \"Mikey's Nunchucks\",\n",
       " 'Donatello',\n",
       " \"Donnie's Bo Sheath\",\n",
       " \"Donnie's Bo Staff\",\n",
       " 'Raphael',\n",
       " \"Raph's Sai Holster\",\n",
       " \"Raph's Sai\",\n",
       " 'Michonne',\n",
       " \"Michonne's Katana\",\n",
       " \"Michonne's Katana\",\n",
       " 'Daryl Dixon',\n",
       " 'Hunting Quiver',\n",
       " \"Daryl's Knives\",\n",
       " 'Kane',\n",
       " 'Sweet Spikes',\n",
       " 'Cutiepie',\n",
       " 'Candy Cleavers',\n",
       " 'Raptor',\n",
       " 'Raptor Satchel',\n",
       " 'Red Knight',\n",
       " 'Red Shield',\n",
       " 'Rick Grimes',\n",
       " \"Sheriff's Duffle\",\n",
       " 'Walker Club',\n",
       " 'Crashing Satellite',\n",
       " 'The Weeknd Combat',\n",
       " 'XO',\n",
       " \"April O'Neil\",\n",
       " 'Channel 6 News Camera',\n",
       " 'Hero Half-Shell',\n",
       " 'TMNT Lid',\n",
       " 'Rat King',\n",
       " \"Leo's Tag\",\n",
       " \"Secret's Out\",\n",
       " \"Raph's Tag\",\n",
       " 'Pizza Time!',\n",
       " \"Mikey's Tag\",\n",
       " 'Channel 6',\n",
       " \"Donnie's Tag\",\n",
       " 'Boom Mic',\n",
       " 'Daryl Dixon',\n",
       " 'Hunting Quiver',\n",
       " \"Daryl's Knives\",\n",
       " 'Michonne',\n",
       " \"Michonne's Katana\",\n",
       " \"Michonne's Katana\",\n",
       " 'Mr. Dappermint',\n",
       " 'Candy Cache',\n",
       " 'Fancy Dandy Canes',\n",
       " 'Candy Plane',\n",
       " 'Candy Cane',\n",
       " 'Donatello',\n",
       " \"Donnie's Bo Sheath\",\n",
       " \"Donnie's Bo Staff\",\n",
       " 'Leonardo',\n",
       " \"Leo's Saya\",\n",
       " \"Leo's Katana\",\n",
       " 'Michelangelo',\n",
       " \"Mikey's Board & Chucks\",\n",
       " \"Mikey's Nunchucks\",\n",
       " 'Raphael',\n",
       " \"Raph's Sai Holster\",\n",
       " \"Raph's Sai\",\n",
       " 'The Brat',\n",
       " 'Loose Links',\n",
       " 'Duffle Dog',\n",
       " 'Knockwurst',\n",
       " \"April O'Neil\",\n",
       " 'Channel 6 News Camera',\n",
       " 'Globe Shaker',\n",
       " 'Ornament',\n",
       " 'Grimoire',\n",
       " 'Holo-Skull',\n",
       " 'Kane',\n",
       " 'Sweet Spikes',\n",
       " 'Luminos',\n",
       " 'Lunar Light',\n",
       " 'Rick Grimes',\n",
       " \"Sheriff's Duffle\",\n",
       " 'Cutiepie',\n",
       " 'Fa-La-La-La-Fishstick',\n",
       " 'The Fishcracker',\n",
       " 'Focus',\n",
       " 'Chuck Pack',\n",
       " 'Holly Striker',\n",
       " 'Holly Jolly Hatchet',\n",
       " 'Karve',\n",
       " 'Merry Mountaineer',\n",
       " 'Mr. Dappermint',\n",
       " 'Candy Cache',\n",
       " 'Potassius Peels',\n",
       " 'Cape of Potassius',\n",
       " 'Recon Expert',\n",
       " 'The Brat',\n",
       " 'Loose Links',\n",
       " 'Llamacadabra',\n",
       " 'Boom Mic',\n",
       " 'Crashing Satellite',\n",
       " 'Knockwurst',\n",
       " 'Polar Poleaxe',\n",
       " 'Crystal',\n",
       " \"Stash'd\",\n",
       " 'aXe-O',\n",
       " 'Popular Vibe',\n",
       " 'Dab',\n",
       " 'Candy Cleavers',\n",
       " 'Candy Plane',\n",
       " 'Fancy Dandy Canes',\n",
       " 'Holiday Hook',\n",
       " 'Legendary Blade of Insight',\n",
       " \"Ol' Chopper\",\n",
       " 'Tree Topper',\n",
       " 'Tundra Blades',\n",
       " 'Walker Club',\n",
       " 'Hero Half-Shell',\n",
       " 'TMNT Lid',\n",
       " 'Rat King',\n",
       " \"Leo's Tag\",\n",
       " \"Secret's Out\",\n",
       " \"Raph's Tag\",\n",
       " 'Pizza Time!',\n",
       " \"Mikey's Tag\",\n",
       " 'Channel 6',\n",
       " \"Donnie's Tag\",\n",
       " 'Duffle Dog']"
      ]
     },
     "execution_count": 75,
     "metadata": {},
     "output_type": "execute_result"
    }
   ],
   "source": [
    "saver"
   ]
  },
  {
   "cell_type": "code",
   "execution_count": null,
   "id": "27b654db-b9ab-4c51-a304-e7824537edb9",
   "metadata": {},
   "outputs": [],
   "source": []
  }
 ],
 "metadata": {
  "kernelspec": {
   "display_name": "Python 3 (ipykernel)",
   "language": "python",
   "name": "python3"
  },
  "language_info": {
   "codemirror_mode": {
    "name": "ipython",
    "version": 3
   },
   "file_extension": ".py",
   "mimetype": "text/x-python",
   "name": "python",
   "nbconvert_exporter": "python",
   "pygments_lexer": "ipython3",
   "version": "3.9.6"
  }
 },
 "nbformat": 4,
 "nbformat_minor": 5
}
